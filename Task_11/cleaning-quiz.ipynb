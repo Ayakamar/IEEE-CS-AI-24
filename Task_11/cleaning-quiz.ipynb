{
 "cells": [
  {
   "cell_type": "markdown",
   "metadata": {},
   "source": [
    "# Cleaning Practice\n",
    "Let's first practice handling missing values and duplicate data using the `cancer_data_means.csv` file."
   ]
  },
  {
   "cell_type": "code",
   "execution_count": 1,
   "metadata": {},
   "outputs": [],
   "source": [
    "#import libraries and assign cancer_data_means.csv to a variable \n",
    "import pandas as pd\n",
    "df_cancer = pd.read_csv('cancer_data_means.csv')\n"
   ]
  },
  {
   "cell_type": "code",
   "execution_count": 2,
   "metadata": {},
   "outputs": [
    {
     "name": "stdout",
     "output_type": "stream",
     "text": [
      "texture_mean       21\n",
      "smoothness_mean    48\n",
      "symmetry_mean      65\n",
      "dtype: int64\n"
     ]
    }
   ],
   "source": [
    "# check which columns have missing values\n",
    "missing_values = df_cancer.isnull().sum()"
   ]
  },
  {
   "cell_type": "code",
   "execution_count": 3,
   "metadata": {},
   "outputs": [
    {
     "name": "stdout",
     "output_type": "stream",
     "text": [
      "texture_mean       21\n",
      "smoothness_mean    48\n",
      "symmetry_mean      65\n",
      "dtype: int64\n"
     ]
    }
   ],
   "source": [
    "# confirm your correction\n",
    "print(missing_values[missing_values > 0])"
   ]
  },
  {
   "cell_type": "code",
   "execution_count": 4,
   "metadata": {},
   "outputs": [
    {
     "name": "stdout",
     "output_type": "stream",
     "text": [
      "Number of duplicatees : 5\n"
     ]
    }
   ],
   "source": [
    "# how many duplicates are there ?\n",
    "num_duplicates = df_cancer.duplicated().sum()\n",
    "print(f\"Number of duplicatees : {num_duplicates}\")"
   ]
  },
  {
   "cell_type": "code",
   "execution_count": 5,
   "metadata": {},
   "outputs": [],
   "source": [
    "# drop duplicates\n",
    "df_cancer = df_cancer.drop_duplicates()"
   ]
  },
  {
   "cell_type": "code",
   "execution_count": 6,
   "metadata": {},
   "outputs": [
    {
     "name": "stdout",
     "output_type": "stream",
     "text": [
      "Number of duplicates in data after dropping: 0\n"
     ]
    }
   ],
   "source": [
    "# confirm correction by rechecking for duplicates in the data\n",
    "num_duplicates_after = df_cancer.duplicated().sum()\n",
    "print(f\"Number of duplicates in data after dropping: {num_duplicates_after}\")"
   ]
  },
  {
   "cell_type": "markdown",
   "metadata": {},
   "source": [
    "## Renaming Columns\n",
    "Since we also previously changed our dataset to only include means of tumor features, the \"_mean\" at the end of each feature seems unnecessary. It just takes extra time to type in our analysis later. Rename the columns of the dataframe to remove \"_mean\"."
   ]
  },
  {
   "cell_type": "code",
   "execution_count": 7,
   "metadata": {},
   "outputs": [],
   "source": [
    "# rename the columns of the dataframe (remove _mean from the name of each column if found)\n",
    "df_cancer.columns = [col.replace('_mean', '') for col in df_cancer.columns]"
   ]
  },
  {
   "cell_type": "code",
   "execution_count": 8,
   "metadata": {},
   "outputs": [
    {
     "name": "stdout",
     "output_type": "stream",
     "text": [
      "         id diagnosis  radius  texture  perimeter    area  smoothness  \\\n",
      "0    842302         M   17.99      NaN     122.80  1001.0     0.11840   \n",
      "1    842517         M   20.57    17.77     132.90  1326.0     0.08474   \n",
      "2  84300903         M   19.69    21.25     130.00  1203.0     0.10960   \n",
      "3  84348301         M   11.42    20.38      77.58   386.1         NaN   \n",
      "4  84358402         M   20.29    14.34     135.10  1297.0     0.10030   \n",
      "\n",
      "   compactness  concavity  concave_points  symmetry  fractal_dimension  \n",
      "0      0.27760     0.3001         0.14710    0.2419            0.07871  \n",
      "1      0.07864     0.0869         0.07017    0.1812            0.05667  \n",
      "2      0.15990     0.1974         0.12790    0.2069            0.05999  \n",
      "3      0.28390     0.2414         0.10520    0.2597            0.09744  \n",
      "4      0.13280     0.1980         0.10430    0.1809            0.05883  \n"
     ]
    }
   ],
   "source": [
    "# display first few rows of the dataframe to confirm changes\n",
    "print(df_cancer.head())"
   ]
  },
  {
   "cell_type": "code",
   "execution_count": 9,
   "metadata": {},
   "outputs": [],
   "source": [
    "# save this for later as a csv file named \"cancer_data_edited.csv\" and set indexing to false (why ??)\n",
    "df_cancer.to_csv('cancer_data_edited.csv', index=False)"
   ]
  },
  {
   "cell_type": "code",
   "execution_count": null,
   "metadata": {},
   "outputs": [],
   "source": []
  }
 ],
 "metadata": {
  "kernelspec": {
   "display_name": "Python 3 (ipykernel)",
   "language": "python",
   "name": "python3"
  },
  "language_info": {
   "codemirror_mode": {
    "name": "ipython",
    "version": 3
   },
   "file_extension": ".py",
   "mimetype": "text/x-python",
   "name": "python",
   "nbconvert_exporter": "python",
   "pygments_lexer": "ipython3",
   "version": "3.11.7"
  }
 },
 "nbformat": 4,
 "nbformat_minor": 4
}
